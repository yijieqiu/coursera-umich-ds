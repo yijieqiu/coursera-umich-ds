{
 "cells": [
  {
   "cell_type": "markdown",
   "metadata": {},
   "source": [
    "---\n",
    "\n",
    "_You are currently looking at **version 1.1** of this notebook. To download notebooks and datafiles, as well as get help on Jupyter notebooks in the Coursera platform, visit the [Jupyter Notebook FAQ](https://www.coursera.org/learn/python-data-analysis/resources/0dhYG) course resource._\n",
    "\n",
    "---"
   ]
  },
  {
   "cell_type": "code",
   "execution_count": 1,
   "metadata": {},
   "outputs": [],
   "source": [
    "import pandas as pd\n",
    "import numpy as np\n",
    "from scipy.stats import ttest_ind"
   ]
  },
  {
   "cell_type": "markdown",
   "metadata": {},
   "source": [
    "# Assignment 4 - Hypothesis Testing\n",
    "This assignment requires more individual learning than previous assignments - you are encouraged to check out the [pandas documentation](http://pandas.pydata.org/pandas-docs/stable/) to find functions or methods you might not have used yet, or ask questions on [Stack Overflow](http://stackoverflow.com/) and tag them as pandas and python related. And of course, the discussion forums are open for interaction with your peers and the course staff.\n",
    "\n",
    "Definitions:\n",
    "* A _quarter_ is a specific three month period, Q1 is January through March, Q2 is April through June, Q3 is July through September, Q4 is October through December.\n",
    "* A _recession_ is defined as starting with two consecutive quarters of GDP decline, and ending with two consecutive quarters of GDP growth.\n",
    "* A _recession bottom_ is the quarter within a recession which had the lowest GDP.\n",
    "* A _university town_ is a city which has a high percentage of university students compared to the total population of the city.\n",
    "\n",
    "**Hypothesis**: University towns have their mean housing prices less effected by recessions. Run a t-test to compare the ratio of the mean price of houses in university towns the quarter before the recession starts compared to the recession bottom. (`price_ratio=quarter_before_recession/recession_bottom`)\n",
    "\n",
    "The following data files are available for this assignment:\n",
    "* From the [Zillow research data site](http://www.zillow.com/research/data/) there is housing data for the United States. In particular the datafile for [all homes at a city level](http://files.zillowstatic.com/research/public/City/City_Zhvi_AllHomes.csv), ```City_Zhvi_AllHomes.csv```, has median home sale prices at a fine grained level.\n",
    "* From the Wikipedia page on college towns is a list of [university towns in the United States](https://en.wikipedia.org/wiki/List_of_college_towns#College_towns_in_the_United_States) which has been copy and pasted into the file ```university_towns.txt```.\n",
    "* From Bureau of Economic Analysis, US Department of Commerce, the [GDP over time](http://www.bea.gov/national/index.htm#gdp) of the United States in current dollars (use the chained value in 2009 dollars), in quarterly intervals, in the file ```gdplev.xls```. For this assignment, only look at GDP data from the first quarter of 2000 onward.\n",
    "\n",
    "Each function in this assignment below is worth 10%, with the exception of ```run_ttest()```, which is worth 50%."
   ]
  },
  {
   "cell_type": "code",
   "execution_count": 2,
   "metadata": {},
   "outputs": [],
   "source": [
    "# Use this dictionary to map state names to two letter acronyms\n",
    "states = {'OH': 'Ohio', 'KY': 'Kentucky', 'AS': 'American Samoa', 'NV': 'Nevada', 'WY': 'Wyoming', 'NA': 'National', 'AL': 'Alabama', 'MD': 'Maryland', 'AK': 'Alaska', 'UT': 'Utah', 'OR': 'Oregon', 'MT': 'Montana', 'IL': 'Illinois', 'TN': 'Tennessee', 'DC': 'District of Columbia', 'VT': 'Vermont', 'ID': 'Idaho', 'AR': 'Arkansas', 'ME': 'Maine', 'WA': 'Washington', 'HI': 'Hawaii', 'WI': 'Wisconsin', 'MI': 'Michigan', 'IN': 'Indiana', 'NJ': 'New Jersey', 'AZ': 'Arizona', 'GU': 'Guam', 'MS': 'Mississippi', 'PR': 'Puerto Rico', 'NC': 'North Carolina', 'TX': 'Texas', 'SD': 'South Dakota', 'MP': 'Northern Mariana Islands', 'IA': 'Iowa', 'MO': 'Missouri', 'CT': 'Connecticut', 'WV': 'West Virginia', 'SC': 'South Carolina', 'LA': 'Louisiana', 'KS': 'Kansas', 'NY': 'New York', 'NE': 'Nebraska', 'OK': 'Oklahoma', 'FL': 'Florida', 'CA': 'California', 'CO': 'Colorado', 'PA': 'Pennsylvania', 'DE': 'Delaware', 'NM': 'New Mexico', 'RI': 'Rhode Island', 'MN': 'Minnesota', 'VI': 'Virgin Islands', 'NH': 'New Hampshire', 'MA': 'Massachusetts', 'GA': 'Georgia', 'ND': 'North Dakota', 'VA': 'Virginia'}"
   ]
  },
  {
   "cell_type": "code",
   "execution_count": 3,
   "metadata": {
    "umich_part_id": "021",
    "umich_partlist_id": "004"
   },
   "outputs": [],
   "source": [
    "# Incorrect according to auto-grader, but didn't seem to impact the actual ttest..\n",
    "def get_list_of_university_towns():\n",
    "    '''Returns a DataFrame of towns and the states they are in from the \n",
    "    university_towns.txt list. The format of the DataFrame should be:\n",
    "    DataFrame( [ [\"Michigan\", \"Ann Arbor\"], [\"Michigan\", \"Yipsilanti\"] ], \n",
    "    columns=[\"State\", \"RegionName\"]  )\n",
    "    \n",
    "    The following cleaning needs to be done:\n",
    "\n",
    "    1. For \"State\", removing characters from \"[\" to the end.\n",
    "    2. For \"RegionName\", when applicable, removing every character from \" (\" to the end.\n",
    "    3. Depending on how you read the data, you may need to remove newline character '\\n'. '''        \n",
    "    \n",
    "    df = pd.read_table('university_towns.txt', header=None, sep='\\n', names = ['name'])\n",
    "    \n",
    "    # State names in university_towns.txt all end with [edit]\n",
    "    # lambda expression assigns State value NaN to all regions, and ffill() helps propagates the state value all\n",
    "    # regions in a state by filling missing values with last valid value.\n",
    "    df['State'] = df['name'].apply(lambda x: x[:-6].strip()\n",
    "                                   if x.endswith(\"[edit]\") else np.nan).ffill()\n",
    "    \n",
    "    # All university town name entries end with a parenthesis containing names of universities located there.\n",
    "    df['RegionName'] = df['name'].apply(lambda x: x.split(\"(\", maxsplit=1)[0].strip()\n",
    "                                        if x.count(\"(\") > 0 else np.nan)\n",
    "    \n",
    "    return df[['State', 'RegionName']].dropna(axis='index')"
   ]
  },
  {
   "cell_type": "code",
   "execution_count": 4,
   "metadata": {
    "umich_part_id": "022",
    "umich_partlist_id": "004"
   },
   "outputs": [],
   "source": [
    "def get_recession_start():\n",
    "    '''Returns the year and quarter of the recession start time as a \n",
    "    string value in a format such as 2005q3'''\n",
    "    \n",
    "    # Data for 2000Q1 is located on row 221. First four columns are annual data and whitespace, thus can be skipped.\n",
    "    # Two GDP columns represent GDP in billion USD current dollars, and 2009 chained dollars, respectively.\n",
    "    # Using the inflation-adjusted column for purpose of this assignment.\n",
    "    df = pd.read_excel('gdplev.xls', skiprows=220, usecols=[4, 6],\n",
    "                       header=None, names=['Quarter', 'GDP'])\n",
    "    \n",
    "    # shift() moves all rows down by 1 (default period=1), essentially comparing each quarter's GDP with that of\n",
    "    # the previous quarter. Similarly, shift(-1) moves all rows up by 1, and compares with the next quarter.\n",
    "    matched = df[(df['GDP'] < df['GDP'].shift())&\n",
    "                (df['GDP'] > df['GDP'].shift(-1))]\n",
    "    return matched.iloc[0, 0]"
   ]
  },
  {
   "cell_type": "code",
   "execution_count": 5,
   "metadata": {
    "umich_part_id": "023",
    "umich_partlist_id": "004"
   },
   "outputs": [],
   "source": [
    "def get_recession_end():\n",
    "    '''Returns the year and quarter of the recession end time as a \n",
    "    string value in a format such as 2005q3'''\n",
    "    df = pd.read_excel('gdplev.xls', skiprows=220, usecols=[4, 6],\n",
    "                       header=None, names=['Quarter', 'GDP'])\n",
    "    \n",
    "    start = get_recession_start()\n",
    "    \n",
    "    matched = df[(df['GDP'] > df['GDP'].shift()) &\n",
    "                (df['GDP'].shift() > df['GDP'].shift(2)) &\n",
    "                (df['Quarter'] > start)]\n",
    "       \n",
    "    return matched.iloc[0, 0]"
   ]
  },
  {
   "cell_type": "code",
   "execution_count": 6,
   "metadata": {
    "umich_part_id": "024",
    "umich_partlist_id": "004"
   },
   "outputs": [],
   "source": [
    "def get_recession_bottom():\n",
    "    '''Returns the year and quarter of the recession bottom time as a \n",
    "    string value in a format such as 2005q3'''\n",
    "    \n",
    "    df = pd.read_excel('gdplev.xls', skiprows=220, usecols=[4, 6],\n",
    "                       header=None, names=['Quarter', 'GDP'])\n",
    "\n",
    "    start_idx = df.loc[df['Quarter'] == get_recession_start()].index.values.astype(int)[0]\n",
    "    end_idx = df.loc[df['Quarter'] == get_recession_end()].index.values.astype(int)[0] + 1\n",
    "    bottom = ''\n",
    "    min_gdp = np.finfo(np.float128).max\n",
    "    \n",
    "    for i in range(start_idx, end_idx):\n",
    "        if df.iloc[i]['GDP'] < min_gdp:\n",
    "            min_gdp = df.iloc[i]['GDP']\n",
    "            bottom =  df.iloc[i]['Quarter']\n",
    "    \n",
    "    return bottom"
   ]
  },
  {
   "cell_type": "code",
   "execution_count": 7,
   "metadata": {
    "umich_part_id": "025",
    "umich_partlist_id": "004"
   },
   "outputs": [],
   "source": [
    "def convert_housing_data_to_quarters():\n",
    "    '''Converts the housing data to quarters and returns it as mean \n",
    "    values in a dataframe. This dataframe should be a dataframe with\n",
    "    columns for 2000q1 through 2016q3, and should have a multi-index\n",
    "    in the shape of [\"State\",\"RegionName\"].\n",
    "    \n",
    "    Note: Quarters are defined in the assignment description, they are\n",
    "    not arbitrary three month periods.\n",
    "    \n",
    "    The resulting dataframe should have 67 columns, and 10,730 rows.\n",
    "    '''\n",
    "    \n",
    "    # Housing data covers 1996-04 to 2016-08.\n",
    "    # Don't need columns 0, 3, 4, 5 (RegionID, Metro, CountyName, SizeRank)\n",
    "    cols = list(pd.read_csv('City_Zhvi_AllHomes.csv', nrows=1))\n",
    "    cols = [x for x in cols\n",
    "            if x in ['RegionName', 'State'] or x.startswith('20')]\n",
    "    prices = pd.read_csv('City_Zhvi_AllHomes.csv', usecols=cols)\n",
    "    \n",
    "    prices = prices.replace({'State': states})\n",
    "    prices = prices.set_index(['State', 'RegionName'])\n",
    "    \n",
    "    # https://stackoverflow.com/a/40497246\n",
    "    prices = (prices.groupby(pd.PeriodIndex(prices.columns, freq='Q'), axis=1)\n",
    "              .mean()\n",
    "              .rename(columns=lambda c: str(c).lower()))\n",
    "    \n",
    "    return prices"
   ]
  },
  {
   "cell_type": "code",
   "execution_count": 8,
   "metadata": {
    "umich_part_id": "026",
    "umich_partlist_id": "004"
   },
   "outputs": [],
   "source": [
    "def run_ttest():\n",
    "    '''First creates new data showing the decline or growth of housing prices\n",
    "    between the recession start and the recession bottom. Then runs a ttest\n",
    "    comparing the university town values to the non-university towns values, \n",
    "    return whether the alternative hypothesis (that the two groups are the same)\n",
    "    is true or not as well as the p-value of the confidence. \n",
    "    \n",
    "    Return the tuple (different, p, better) where different=True if the t-test is\n",
    "    True at a p<0.01 (we reject the null hypothesis), or different=False if \n",
    "    otherwise (we cannot reject the null hypothesis). The variable p should\n",
    "    be equal to the exact p value returned from scipy.stats.ttest_ind(). The\n",
    "    value for better should be either \"university town\" or \"non-university town\"\n",
    "    depending on which has a lower mean price ratio (which is equivilent to a\n",
    "    reduced market loss).'''\n",
    "    \n",
    "    prices = convert_housing_data_to_quarters().reset_index()\n",
    "    start = get_recession_start()\n",
    "    bottom = get_recession_bottom()\n",
    "    towns = get_list_of_university_towns()\n",
    "    \n",
    "    # when indicator is set to true, the merged data frame will include an extra column \"_merge\"\n",
    "    # indicating source of the row. Valid values are \"left_only\", \"right_only\", and \"both\"\n",
    "    df = pd.merge(prices, towns, on=['State','RegionName'], how='left', indicator=True)\n",
    "    df['Ratio'] = df[start] / df[bottom]\n",
    "    u = df[df['_merge'] == 'both']\n",
    "    nu = df[df['_merge'] == 'left_only']\n",
    "    \n",
    "    from scipy import stats\n",
    "    t, p = stats.ttest_ind(nu['Ratio'].dropna(), u['Ratio'].dropna())\n",
    "    different = (p < 0.01)\n",
    "    better = \"university town\" if (u['Ratio'].mean() < nu['Ratio'].mean()) else \"non-university town\"\n",
    "    \n",
    "    return different, p, better"
   ]
  },
  {
   "cell_type": "code",
   "execution_count": null,
   "metadata": {},
   "outputs": [],
   "source": []
  }
 ],
 "metadata": {
  "coursera": {
   "course_slug": "python-data-analysis",
   "graded_item_id": "Il9Fx",
   "launcher_item_id": "TeDW0",
   "part_id": "WGlun"
  },
  "kernelspec": {
   "display_name": "Python 3",
   "language": "python",
   "name": "python3"
  },
  "language_info": {
   "codemirror_mode": {
    "name": "ipython",
    "version": 3
   },
   "file_extension": ".py",
   "mimetype": "text/x-python",
   "name": "python",
   "nbconvert_exporter": "python",
   "pygments_lexer": "ipython3",
   "version": "3.7.7"
  },
  "umich": {
   "id": "Assignment 4",
   "version": "1.1"
  }
 },
 "nbformat": 4,
 "nbformat_minor": 1
}
